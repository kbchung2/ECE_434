{
 "cells": [
  {
   "cell_type": "markdown",
   "metadata": {
    "id": "dPszpz29ddUD"
   },
   "source": [
    "# ECE/CS 434 | MP2: DUET\n",
    "<br />\n",
    "<nav>\n",
    "    <span class=\"alert alert-block alert-warning\">Due on Wednesday Feb 26 11:59PM on Gradescope</span>\n",
    "   \n",
    "</nav><br> \n"
   ]
  },
  {
   "cell_type": "markdown",
   "metadata": {
    "id": "4t9qXUJkddUH"
   },
   "source": [
    "## Objective\n",
    "In this MP, you will:\n",
    "- Implement DUET algorithm to separate a mixture of N voice signals from received from two microphones"
   ]
  },
  {
   "cell_type": "markdown",
   "metadata": {
    "id": "7g3IdFpLddUH"
   },
   "source": [
    "---\n",
    "## Problem Overview\n",
    "Consider a problem of separating N sources ($S_1$, $S_2$, ... $S_N$) from recordings on 2 microphones ($R_1$ and $R_2$).\n",
    "According to DUET algorithm, you will need to perform the following steps:\n",
    "\n",
    "- Calculate the short-time Fourier transform of two received signals to get the time-frequency spectrograms\n",
    "- Calculate the ratio of the two time-frequency spectrograms to get relative delay and attenuation\n",
    "- Cluster the time-frequency bins in the 2D space spanned by relative delay and attenuation\n",
    "- Recover the original N signals based on the clustering results\n",
    "\n",
    "You can refer to the original DUET paper in ICASSP 2000: \"Blind separation of disjoint orthogonal signals: demixing N sources from 2 mixtures\" and this tutorial in Blind speech separation, 2007 - Springer: \"The DUET blind source separation algorithm\"\n",
    "\n",
    "For the sake of easier clustering, the exact number of sources N will be provided to you.\n",
    "\n",
    "You can assume there is no time-frequency bin collision for any two sources."
   ]
  },
  {
   "cell_type": "markdown",
   "metadata": {
    "id": "-nC62qJrddUI"
   },
   "source": [
    "---\n",
    "## Imports & Setup\n",
    "To run the grading script of this MP, you will need to install the Python [SpeechRecognition](https://pypi.org/project/SpeechRecognition/) package. The SpeechRecognition package also requires the dependency [pocketsphinx](https://pypi.org/project/pocketsphinx/). You may directly use pip install to install both packages.\n",
    "The following `code` cell, when run, imports the libraries you might need for this MP. Feel free to delete or import other commonly used libraries. Double check with the TA if you are unsure if a library is supported."
   ]
  },
  {
   "cell_type": "code",
   "execution_count": 53,
   "metadata": {
    "id": "Uh9Jqy_YddUI"
   },
   "outputs": [],
   "source": [
    "import numpy as np\n",
    "import scipy\n",
    "import scipy.io.wavfile\n",
    "import scipy.signal\n",
    "import speech_recognition as sr\n",
    "import scipy.cluster as cluster\n",
    "import sklearn\n",
    "import sklearn.cluster as clustersk\n",
    "\n",
    "if __name__ == '__main__':\n",
    "    import matplotlib.pyplot as plt\n",
    "    plt.style.use(\"seaborn\") # This sets the matplotlib color scheme to something more soothing\n",
    "    from IPython import get_ipython\n",
    "    get_ipython().run_line_magic('matplotlib', 'inline')\n",
    "\n",
    "# This function is used to format test results. You don't need to touch it.\n",
    "def display_table(data):\n",
    "    from IPython.display import HTML, display\n",
    "    html = \"<table>\"\n",
    "    for row in data:\n",
    "        html += \"<tr>\"\n",
    "        for field in row:\n",
    "            html += \"<td><h4>%s</h4><td>\"%(field)\n",
    "        html += \"</tr>\"\n",
    "    html += \"</table>\"\n",
    "    display(HTML(html))"
   ]
  },
  {
   "cell_type": "markdown",
   "metadata": {
    "id": "ljqhWoW4ddUJ"
   },
   "source": [
    "### Sanity-check\n",
    "\n",
    "Running the following code block verifies that the correct module versions are indeed being used. \n",
    "\n",
    "Try restarting the Python kernel (or Jupyter) if there is a mismatch even after intalling the correct version. This might happen because Python's `import` statement does not reload already-loaded modules even if they are updated."
   ]
  },
  {
   "cell_type": "code",
   "execution_count": 2,
   "metadata": {
    "id": "dixvUHQ_ddUK"
   },
   "outputs": [
    {
     "data": {
      "text/html": [
       "<text style='color:#4caf50;weight:700;'>[✓] scipy version 1.7.2 is correct.</text>"
      ],
      "text/plain": [
       "<IPython.core.display.HTML object>"
      ]
     },
     "metadata": {},
     "output_type": "display_data"
    },
    {
     "data": {
      "text/html": [
       "<text style='color:#4caf50;weight:700;'>[✓] speech_recognition version 3.9.0 is correct.</text>"
      ],
      "text/plain": [
       "<IPython.core.display.HTML object>"
      ]
     },
     "metadata": {},
     "output_type": "display_data"
    },
    {
     "data": {
      "text/html": [
       "<text style='color:#4caf50;weight:700;'>[✓] numpy version 1.21.3 is correct.</text>"
      ],
      "text/plain": [
       "<IPython.core.display.HTML object>"
      ]
     },
     "metadata": {},
     "output_type": "display_data"
    },
    {
     "data": {
      "text/html": [
       "<text style='color:#4caf50;weight:700;'>[✓] matplotlib version 3.4.3 is correct.</text>"
      ],
      "text/plain": [
       "<IPython.core.display.HTML object>"
      ]
     },
     "metadata": {},
     "output_type": "display_data"
    },
    {
     "data": {
      "text/html": [
       "<text style='color:#4caf50;weight:700;'>[✓] scipy version 1.7.2 is correct.</text>"
      ],
      "text/plain": [
       "<IPython.core.display.HTML object>"
      ]
     },
     "metadata": {},
     "output_type": "display_data"
    }
   ],
   "source": [
    "if __name__ == '__main__':\n",
    "    from IPython.display import display, HTML\n",
    "\n",
    "    def printc(text, color):\n",
    "        display(HTML(\"<text style='color:{};weight:700;'>{}</text>\".format(color, text)))\n",
    "\n",
    "    _requirements = [r.split(\"==\") for r in open(\n",
    "        \"packages.txt\", \"r\").read().split(\"\\n\")]\n",
    "\n",
    "    import sys\n",
    "    for (module, expected_version) in _requirements:\n",
    "        try:\n",
    "            if sys.modules[module].__version__ != expected_version:\n",
    "                printc(\"[✕] {} version should to be {}, but {} is installed.\".format(\n",
    "                    module, expected_version, sys.modules[module].__version__), \"#f44336\")\n",
    "            else:\n",
    "                printc(\"[✓] {} version {} is correct.\".format(\n",
    "                    module, expected_version), \"#4caf50\")\n",
    "        except:\n",
    "            printc(\"[–] {} is not imported, skipping version check.\".format(\n",
    "                module), \"#03a9f4\")"
   ]
  },
  {
   "cell_type": "markdown",
   "metadata": {
    "id": "JRrGNFqRddUK"
   },
   "source": [
    "---\n",
    "## Your Implementation\n",
    "Implement your localization algorithm in the function `duet_source_separation(mic_data_folder, NUM_SOURCES)`. Do **NOT** change its function signature. You are, however, free to define and use helper functions. \n",
    "\n",
    "Your implementation for `duet_source_separation` function should **NOT** output any plots or data. It should only return the user's calculated location."
   ]
  },
  {
   "cell_type": "code",
   "execution_count": 72,
   "metadata": {
    "id": "UisT3IqdddUL"
   },
   "outputs": [],
   "source": [
    "def duet_source_separation(mic_data_folder, NUM_SOURCES):\n",
    "    \"\"\"DUET source separation algorithm. Write your code here.\n",
    "\n",
    "    Args:\n",
    "        mic_data_folder: name of folder (without a trailing slash) containing \n",
    "                         two mic datafiles `0.wav` and `1.wav`.\n",
    "\n",
    "    Returns:\n",
    "        NUM_SOURCES * recording_length numpy array, where NUM_SOURCES is the number of sources,\n",
    "        and recording_length is the original length of the recording (in number of samples)\n",
    "\n",
    "    \"\"\"\n",
    "    bomber = clustersk.KMeans(NUM_SOURCES)\n",
    "    source0_sample_rate, source0_data = scipy.io.wavfile.read(mic_data_folder + \"/0.wav\")\n",
    "    source1_sample_rate, source1_data = scipy.io.wavfile.read(mic_data_folder + \"/1.wav\")\n",
    "    if (NUM_SOURCES == 1):\n",
    "        return source0_data\n",
    "    # Take the STFT on both mics \n",
    "    output = np.array([])\n",
    "    stft_0_frequency,stft_0_time, stft_0 = scipy.signal.stft(source0_data, fs = source0_sample_rate, nperseg = 1024,noverlap=512)\n",
    "    stft_1_frequency, stft_1_time, stft_1 = scipy.signal.stft(source1_data, fs = source1_sample_rate,nperseg = 1024, noverlap = 512)\n",
    "    # Take the STFT on both mics\n",
    "    print(\"Time length: \" ,len(stft_0_time))\n",
    "    print (\"Frequency length : \" , len(stft_0_frequency))\n",
    "    print(\"stft_0 shape: \", stft_0.shape)\n",
    "  \n",
    "    # solely for debugging\n",
    "    stft_0_magnitude = np.abs(stft_0)\n",
    "    stft_0_phase = np.angle(stft_0)\n",
    "    stft_1_magnitude = np.abs(stft_1)\n",
    "    stft_1_phase = np.angle(stft_1)\n",
    "    \n",
    "    \n",
    "    phase_differences = stft_0_phase - stft_1_phase\n",
    "    \n",
    "    print(\"Phase differences: \",phase_differences.shape,  phase_differences)\n",
    "    # magnitude_ratio = np.abs(stft_ratio)\n",
    "    \n",
    "    time_differences = np.zeros_like(phase_differences)\n",
    "    for i in range(time_differences.shape[1]):\n",
    "        time_differences[:,i] = phase_differences[:,i] / (2 * np.pi * stft_0_frequency + 1e-8) # can use either stft_0_frequency or stft_1_frequency\n",
    "    flattened_time_differences = time_differences.reshape( -1,1)\n",
    "    print(\" Time differences: \",time_differences.shape, time_differences)\n",
    "    \n",
    "    \n",
    "    #### CLustering #####\n",
    "    bomb_centers = bomber.fit_predict(flattened_time_differences).reshape(time_differences.shape)\n",
    "    print(\"Clusters: \" ,bomb_centers)\n",
    "    print(\"Length of Clusters: \", bomb_centers.shape)\n",
    "    \n",
    "    one_hots =  np.array([np.zeros( (len(stft_0_frequency),len(stft_0_time)   ) ) for i in range(NUM_SOURCES) ] ) \n",
    "    for r in range(len(stft_0_frequency)):\n",
    "        for c in range(len(stft_0_time)):\n",
    "            # time_difference = time_differences[r,c]\n",
    "            # closest_cluster = np.argmin(bomb_centers - time_difference)\n",
    "            one_hots[bomb_centers[r,c] ][r,c] = 1\n",
    "    for one_hot_burn in one_hots:\n",
    "        one_hot_transformed_stft = stft_0_magnitude * one_hot_burn\n",
    "        _, inverted_stft = scipy.signal.istft(one_hot_transformed_stft,fs=source0_sample_rate, nperseg = 1024,noverlap=512)\n",
    "        print(\"istft: \", inverted_stft)\n",
    "        print(\"Output Length : \" , len(output))\n",
    "        output = np.concatenate( (output, inverted_stft))\n",
    "    # one_hot_transformed_stft0 = stft_0 * one_hots[0]\n",
    "    # one_hot_transformed_stft1 = stft_1 * one_hots[0]\n",
    "    # _, inverted_stft0 = scipy.signal.istft(one_hot_transformed_stft0,fs=source0_sample_rate, nperseg = 1024,noverlap=512 )   \n",
    "    # _, inverted_stft1 = scipy.signal.istft(one_hot_transformed_stft1,fs=source1_sample_rate, nperseg = 1024,noverlap=512)     \n",
    "    # print(\"istft_0: \", inverted_stft0)\n",
    "    # print(\"istft_1: \", inverted_stft1)\n",
    "    # output = inverted_stft0\n",
    "    print(\"output: \" , output)\n",
    "     \n",
    "    \n",
    "    \n",
    "    return output"
   ]
  },
  {
   "cell_type": "markdown",
   "metadata": {
    "id": "Mysy5nucddUL"
   },
   "source": [
    "---\n",
    "## Running and Testing\n",
    "Use the cell below to run and test your code, and to get an estimate of your grade."
   ]
  },
  {
   "cell_type": "code",
   "execution_count": 73,
   "metadata": {
    "id": "CXQicdJJddUL"
   },
   "outputs": [
    {
     "name": "stdout",
     "output_type": "stream",
     "text": [
      "Time length:  80\n",
      "Frequency length :  513\n",
      "stft_0 shape:  (513, 80)\n",
      "Phase differences:  (513, 80) [[ 0.          0.          0.         ...  0.          0.\n",
      "   0.        ]\n",
      " [-0.01407344 -0.01996539 -0.0175029  ...  0.          0.\n",
      "   0.        ]\n",
      " [-0.0281403  -0.02534938 -0.02152514 ...  0.          0.\n",
      "   0.        ]\n",
      " ...\n",
      " [ 0.02260943  0.02282929  0.00559497 ...  0.          0.\n",
      "   0.        ]\n",
      " [ 0.01129982  0.0136385   0.0104382  ...  0.          0.\n",
      "   0.        ]\n",
      " [ 0.          0.          0.         ...  0.          0.\n",
      "   0.        ]]\n",
      " Time differences:  (513, 80) [[ 0.0000000e+00  0.0000000e+00  0.0000000e+00 ...  0.0000000e+00\n",
      "   0.0000000e+00  0.0000000e+00]\n",
      " [-1.0401875e-04 -1.4756700e-04 -1.2936644e-04 ...  0.0000000e+00\n",
      "   0.0000000e+00  0.0000000e+00]\n",
      " [-1.0399446e-04 -9.3680421e-05 -7.9547688e-05 ...  0.0000000e+00\n",
      "   0.0000000e+00  0.0000000e+00]\n",
      " ...\n",
      " [ 3.2766562e-07  3.3085203e-07  8.1084714e-08 ...  0.0000000e+00\n",
      "   0.0000000e+00  0.0000000e+00]\n",
      " [ 1.6344140e-07  1.9726821e-07  1.5097893e-07 ...  0.0000000e+00\n",
      "   0.0000000e+00  0.0000000e+00]\n",
      " [ 0.0000000e+00  0.0000000e+00  0.0000000e+00 ...  0.0000000e+00\n",
      "   0.0000000e+00  0.0000000e+00]]\n",
      "Clusters:  [[0 0 0 ... 0 0 0]\n",
      " [0 0 0 ... 0 0 0]\n",
      " [0 0 0 ... 0 0 0]\n",
      " ...\n",
      " [0 0 0 ... 0 0 0]\n",
      " [0 0 0 ... 0 0 0]\n",
      " [0 0 0 ... 0 0 0]]\n",
      "Length of Clusters:  (513, 80)\n",
      "istft:  [-1.75504596e-07  9.82576442e-04  2.54541285e-03 ...  0.00000000e+00\n",
      "  0.00000000e+00  0.00000000e+00]\n",
      "Output Length :  0\n",
      "istft:  [1.75502464e-07 4.27910025e-05 1.51122363e-04 ... 0.00000000e+00\n",
      " 0.00000000e+00 0.00000000e+00]\n",
      "Output Length :  40448\n",
      "output:  [-1.75504596e-07  9.82576442e-04  2.54541285e-03 ...  0.00000000e+00\n",
      "  0.00000000e+00  0.00000000e+00]\n",
      "Time length:  119\n",
      "Frequency length :  513\n",
      "stft_0 shape:  (513, 119)\n",
      "Phase differences:  (513, 119) [[ 0.          0.          0.         ...  0.          0.\n",
      "   0.        ]\n",
      " [-0.01407344 -0.01996539 -0.0175029  ...  0.          0.\n",
      "   0.        ]\n",
      " [-0.0281403  -0.02534938 -0.02152514 ...  0.          0.\n",
      "   0.        ]\n",
      " ...\n",
      " [ 0.02260943  0.02282929  0.00559497 ...  0.          0.\n",
      "   0.        ]\n",
      " [ 0.01129982  0.0136385   0.0104382  ...  0.          0.\n",
      "   0.        ]\n",
      " [ 0.          0.          0.         ...  0.          0.\n",
      "   0.        ]]\n",
      " Time differences:  (513, 119) [[ 0.0000000e+00  0.0000000e+00  0.0000000e+00 ...  0.0000000e+00\n",
      "   0.0000000e+00  0.0000000e+00]\n",
      " [-1.0401875e-04 -1.4756700e-04 -1.2936644e-04 ...  0.0000000e+00\n",
      "   0.0000000e+00  0.0000000e+00]\n",
      " [-1.0399446e-04 -9.3680421e-05 -7.9547688e-05 ...  0.0000000e+00\n",
      "   0.0000000e+00  0.0000000e+00]\n",
      " ...\n",
      " [ 3.2766562e-07  3.3085203e-07  8.1084714e-08 ...  0.0000000e+00\n",
      "   0.0000000e+00  0.0000000e+00]\n",
      " [ 1.6344140e-07  1.9726821e-07  1.5097893e-07 ...  0.0000000e+00\n",
      "   0.0000000e+00  0.0000000e+00]\n",
      " [ 0.0000000e+00  0.0000000e+00  0.0000000e+00 ...  0.0000000e+00\n",
      "   0.0000000e+00  0.0000000e+00]]\n",
      "Clusters:  [[1 1 1 ... 1 1 1]\n",
      " [1 1 1 ... 1 1 1]\n",
      " [1 1 1 ... 1 1 1]\n",
      " ...\n",
      " [1 1 1 ... 1 1 1]\n",
      " [1 1 1 ... 1 1 1]\n",
      " [1 1 1 ... 1 1 1]]\n",
      "Length of Clusters:  (513, 119)\n",
      "istft:  [-2.35915479e-07  1.31480728e-04  1.54416147e-04 ...  0.00000000e+00\n",
      "  0.00000000e+00  0.00000000e+00]\n",
      "Output Length :  0\n",
      "istft:  [2.35913348e-07 8.93886716e-04 2.54211907e-03 ... 0.00000000e+00\n",
      " 0.00000000e+00 0.00000000e+00]\n",
      "Output Length :  60416\n",
      "istft:  [0. 0. 0. ... 0. 0. 0.]\n",
      "Output Length :  120832\n",
      "output:  [-2.35915479e-07  1.31480728e-04  1.54416147e-04 ...  0.00000000e+00\n",
      "  0.00000000e+00  0.00000000e+00]\n"
     ]
    },
    {
     "data": {
      "text/html": [
       "<table><tr><td><h4>Dataset</h4><td><td><h4>Expected Output</h4><td><td><h4>Your Output</h4><td><td><h4>Grade</h4><td><td><h4>Points Awarded</h4><td></tr><tr><td><h4>1</h4><td><td><h4>{'hello how are you'}</h4><td><td><h4>{'Incorrect number of sources!'}</h4><td><td><h4>0.00%</h4><td><td><h4>0.00 / 5.0</h4><td></tr><tr><td><h4>2</h4><td><td><h4>{'nice to meet you', 'how are you'}</h4><td><td><h4>{'Incorrect number of sources!'}</h4><td><td><h4>0.00%</h4><td><td><h4>0.00 / 5.0</h4><td></tr><tr><td><h4>3</h4><td><td><h4>{'nice to meet you', 'good morning', 'how are you'}</h4><td><td><h4>{'Incorrect number of sources!'}</h4><td><td><h4>0.00%</h4><td><td><h4>0.00 / 5.0</h4><td></tr><tr><td><h4><i>👻 Hidden test 1 👻</i></h4><td><td><h4><i>???</i></h4><td><td><h4><i>???</i></h4><td><td><h4><i>???</i></h4><td><td><h4><i>???</i> / 10.0</h4><td></tr><tr><td><h4><i>...</i></h4><td><td><h4><i>...</i></h4><td><td><h4><i>...</i></h4><td><td><h4><i>...</i></h4><td><td><h4><i>...</i></h4><td></tr><tr><td><h4><i>👻 Hidden test 7 👻</i></h4><td><td><h4><i>???</i></h4><td><td><h4><i>???</i></h4><td><td><h4><i>???</i></h4><td><td><h4><i>???</i> / 10.0</h4><td></tr></table>"
      ],
      "text/plain": [
       "<IPython.core.display.HTML object>"
      ]
     },
     "metadata": {},
     "output_type": "display_data"
    }
   ],
   "source": [
    "def calculate_score(calculated, expected):\n",
    "    student_result = set()\n",
    "    calculated = np.array(calculated)\n",
    "    if calculated.shape[0] != len(expected):\n",
    "      return 0, {'Incorrect number of sources!'}\n",
    "    for i in range(calculated.shape[0]):\n",
    "        scipy.io.wavfile.write(\"temp.wav\",22050,calculated[i,:])\n",
    "        r = sr.Recognizer()\n",
    "        with sr.AudioFile(\"temp.wav\") as source:\n",
    "            audio = r.record(source)\n",
    "        try:\n",
    "            text = r.recognize_sphinx(audio)\n",
    "            student_result.add(text.lower())\n",
    "        except:\n",
    "            student_result.add(\"Sphinx could not understand audio\")\n",
    "    score = len(student_result.intersection(expected))/len(expected)\n",
    "    return score, student_result\n",
    "     \n",
    "if __name__ == '__main__':\n",
    "    groundtruth = [{\"hello how are you\"}, {\"nice to meet you\",\"how are you\"}, {\"how are you\",\"good morning\",\"nice to meet you\"}]\n",
    "    \n",
    "    output = [['Dataset', 'Expected Output', 'Your Output', 'Grade', 'Points Awarded']]\n",
    "    for i in range(1,4):\n",
    "        directory_name = 'dataset{}'.format(i)\n",
    "        student_output = duet_source_separation(directory_name, i)\n",
    "        result = calculate_score(student_output, groundtruth[i-1])   \n",
    "        output.append([\n",
    "            str(i),\n",
    "            str(groundtruth[i-1]), \n",
    "            str(result[1]), \n",
    "            \"{:2.2f}%\".format(result[0] * 100),\n",
    "            \"{:1.2f} / 5.0\".format(result[0] * 5),\n",
    "        ])\n",
    "\n",
    "    output.append([\n",
    "        '<i>👻 Hidden test 1 👻</i>', \n",
    "        '<i>???</i>', \n",
    "        '<i>???</i>', \n",
    "        '<i>???</i>', \n",
    "        \"<i>???</i> / 10.0\"])\n",
    "    output.append([\n",
    "        '<i>...</i>', \n",
    "        '<i>...</i>', \n",
    "        '<i>...</i>', \n",
    "        '<i>...</i>', \n",
    "        \"<i>...</i>\"])\n",
    "    output.append([\n",
    "        '<i>👻 Hidden test 7 👻</i>', \n",
    "        '<i>???</i>', \n",
    "        '<i>???</i>', \n",
    "        '<i>???</i>', \n",
    "        \"<i>???</i> / 10.0\"])\n",
    "    display_table(output)"
   ]
  },
  {
   "cell_type": "markdown",
   "metadata": {
    "id": "gogDNdnbddUM"
   },
   "source": [
    "---\n",
    "## Rubric\n",
    "You will be graded on the three data points provided to you (5 points each) and seven additional data points under different settings(10 points each). We will use the same code from the **Running and Testing** section above to grade all 10 traces of data. We will run ASR on your output to see if it generates the corrected separated speech signal. Output order does not matter. Percentage of grade for each data point is based on how many sources you estimated correctly (i.e., assume there are n sources, then you will get $\\frac{1}{n} * 100\\%$ for each correctedly estimated source)."
   ]
  },
  {
   "cell_type": "markdown",
   "metadata": {
    "id": "a_ApDXSrddUM"
   },
   "source": [
    "---\n",
    "## Submission Guidlines\n",
    "This Jupyter notebook (`MP2.ipynb`) is the only file you need to submit on Gradescope. As mentioned earlier, you will only be graded using your implementation of the `duet_source_separation` function, which should only return the calculated **NOT** output any plots or data. \n",
    "\n",
    "**Make sure any code you added to this notebook, except for import statements, is either in a function or guarded by `__main__`(which won't be run by the autograder). Gradescope will give you immediate feedback using the provided test cases. It is your responsibility to check the output before the deadline to ensure your submission runs with the autograder.**"
   ]
  }
 ],
 "metadata": {
  "colab": {
   "provenance": []
  },
  "kernelspec": {
   "display_name": "Python 3 (ipykernel)",
   "language": "python",
   "name": "python3"
  },
  "language_info": {
   "codemirror_mode": {
    "name": "ipython",
    "version": 3
   },
   "file_extension": ".py",
   "mimetype": "text/x-python",
   "name": "python",
   "nbconvert_exporter": "python",
   "pygments_lexer": "ipython3",
   "version": "3.9.18"
  },
  "vscode": {
   "interpreter": {
    "hash": "397704579725e15f5c7cb49fe5f0341eb7531c82d19f2c29d197e8b64ab5776b"
   }
  }
 },
 "nbformat": 4,
 "nbformat_minor": 4
}
