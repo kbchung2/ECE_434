{
 "cells": [
  {
   "cell_type": "markdown",
   "metadata": {},
   "source": [
    "# ECE/CS 434 | MP6: Dynamic Time Warping\n",
    "<br />\n",
    "<nav>\n",
    "    <span class=\"alert alert-block alert-warning\">Due on Thursday May 1st 11:59PM on Gradescope</span>\n",
    "</nav><br> \n"
   ]
  },
  {
   "cell_type": "markdown",
   "metadata": {},
   "source": [
    "----\n",
    "## Objective\n",
    "In this MP, you will:\n",
    "- Implement the Dynamic Time Warping Algorithm\n",
    "- Use the DTW algorithm to identify missing windows in time series data"
   ]
  },
  {
   "cell_type": "markdown",
   "metadata": {},
   "source": [
    "----\n",
    "## Imports"
   ]
  },
  {
   "cell_type": "code",
   "execution_count": 5,
   "metadata": {},
   "outputs": [],
   "source": [
    "import numpy as np\n",
    "import random\n",
    "import scipy\n",
    "\n",
    "\n",
    "\n",
    "# This function is used to format test results. You don't need to touch it.\n",
    "def display_table(data):\n",
    "    from IPython.display import HTML, display\n",
    "\n",
    "    html = \"<table>\"\n",
    "    for row in data:\n",
    "        html += \"<tr>\"\n",
    "        for field in row:\n",
    "            html += \"<td><h4>{}</h4><td>\".format(field)\n",
    "        html += \"</tr>\"\n",
    "    html += \"</table>\"\n",
    "    display(HTML(html))"
   ]
  },
  {
   "cell_type": "markdown",
   "metadata": {},
   "source": [
    "----\n",
    "## Problem Setting\n",
    "Many off-the-shelf smart watches today are capable of taking the user's electrocardiogram (also called an ECG or EKG), a test that records the timing and strength of the electrical signals that make the heart beat. However, wearing the watch too loose, having sweat or dirt between the watch and wrist can all result in poor readings. In this MP, we will simulate this scenario. You will be given a ground truth reading $X$, and a watch reading $Y$. The watch reading will have 1 missing time window and added noise compared to the ground truth reading. In other words, $Y = X\\setminus W + N$, where $W$ is the missing time window and $N$ is random noise. Your task is to identify the start of the missing time window.\n",
    "\n",
    "For example, let $X = [1, 2, 3, 4, 5]$ and $Y = [0.9, 2.1, 5.2]$. We can see that the values $3$ and $4$ in $X$ are missing from $Y$. Your program should then return $2$, which is the index of the first missing value in $X$, aka the index of $3$ in $X$\n",
    "\n",
    "Note that we are only simulating an ECG missing data scenario. The data used is not actually ECG data. However, this should not make a difference in your implementation.\n",
    "\n",
    "<div class=\"alert alert-block alert-info\"><b>Hint 1:</b> The DTW algorithm essentially constructs a cost matrix, $C$, between the two signals, based on the distance between points in the two signals. For every cell in this matrix, its value can be calculated as such: $C(c_j, r_j) = distance(c_j,r_j) + min\\{C(c_{j-1}, r_{j-1}), C(c_{j-1, r_{j}}), C(c_{j}, r_{j-1})\\}$. Refer to the lecture notes for more details.</div>\n",
    "\n",
    "<div class=\"alert alert-block alert-info\"><b>Hint 2:</b> The missing time window can be identified by examining the cost matrix: 1 time point in $Y$ will match to multiple time points in $X$. You can approach this by starting at (0, 0) of the cost matrix and traveling towards (len(X), len(Y)). At every step, make a decision to go right, down or diagonal by choosing the cell with minimal cost. If for multiple steps in a row, the decision is to go down, then you might have encountered the missing time window since 1 point in $Y$ is being matched to multiple points in $X$</div>"
   ]
  },
  {
   "cell_type": "markdown",
   "metadata": {},
   "source": [
    "----\n",
    "## Your Implementation\n",
    "Implement your algorithm in the function `find_missing_window(X, Y, N)`. Do **NOT** change its function signature. You are, however, free to define and use helper functions. You are **NOT** allowed to use existing Python DTW packages."
   ]
  },
  {
   "cell_type": "code",
   "execution_count": 47,
   "metadata": {},
   "outputs": [],
   "source": [
    "def find_missing_window(X, Y, N):\n",
    "    \"\"\"Identifies where data is missing.\n",
    "    Args:\n",
    "      X: The ground truth signal\n",
    "      Y: Signal with 1 time window missing from X and added noise\n",
    "      N: Approximate length of the missing time window\n",
    "    Returns: Candidate indices of the missing time window in X. See section above for an example.\n",
    "    You may return up to 3 candidate results. You will receive full points as long as 1 falls within the grading criteria.\n",
    "    For example, if you think the missing time window starts at index 3 but indices 8 and 40 are also possible, \n",
    "    then return [3, 8, 40].\n",
    "    \"\"\"\n",
    "    x_len = len(X)\n",
    "    y_len = len(Y)\n",
    "    cost_matrix = np.zeros((x_len,y_len))\n",
    "    \n",
    "    \n",
    "    # initialize top row and left column of cost_matrix\n",
    "    for a in range(1, y_len):\n",
    "      cost_matrix[0,a] = np.abs(X[0] - Y[a]) + cost_matrix[0,a-1]\n",
    "    for b in range(1, x_len):\n",
    "      cost_matrix[b,0] = np.abs(X[b] - Y[0]) + cost_matrix[b-1, 0]\n",
    "    \n",
    "    for row in range(1,x_len):\n",
    "      for col in range(1, y_len):\n",
    "        cost_matrix[row,col] = np.abs(X[row] - Y[col]) + np.min([cost_matrix[row-1,col], cost_matrix[row,col-1], cost_matrix[row-1,col-1]])\n",
    "    print(cost_matrix)\n",
    "    one_hot_x_down = np.zeros(x_len, int)\n",
    "    \n",
    "    current_point = np.array([0,0], int)\n",
    "    x,y = current_point\n",
    "    for a in range(x_len):\n",
    "\n",
    "      # values\n",
    "      down = np.inf if current_point[0] + 1 == x_len else cost_matrix[current_point[0] + 1, current_point[1]]\n",
    "      right = np.inf if current_point[1] + 1 == y_len else cost_matrix[current_point[0], current_point[1] + 1 ]\n",
    "      diag = np.inf if current_point[0] + 1 == x_len or current_point[1] + 1 == y_len else cost_matrix[current_point[0] + 1, current_point[1] + 1]\n",
    "      \n",
    "      # What to advance x, y?\n",
    "      x_down_diag_right = np.array([1,1,0]) # What to advance x, y?\n",
    "      y_down_diag_right = np.array([0,1,1])\n",
    "      \n",
    "      #  values\n",
    "      down_diag_right = np.array([down,diag,right]) # order of these elements is down, diag, right\n",
    "      min_direction =np.argmin(down_diag_right) # 0 means down, 1 means diagonal, 2 means right\n",
    "      \n",
    "      if min_direction == 0: # we moved down, which means there was missing time stamp\n",
    "        one_hot_x_down[a] = 1\n",
    "      else:\n",
    "        one_hot_x_down[a] = 0\n",
    "      current_point[0] += x_down_diag_right[min_direction]\n",
    "      current_point[1] += y_down_diag_right[min_direction]\n",
    "    \n",
    "    print(one_hot_x_down)\n",
    "    \n",
    "    # Perform correlation based on one_hots\n",
    "    \n",
    "    hot_indices = []\n",
    "    # hot_sums = np.zeros(x_len) # sum the hot_sums\n",
    "    for a in range(x_len):\n",
    "      if one_hot_x_down[a] == 1:\n",
    "        is_possible_index = True\n",
    "        for i in range(N-5): # Check if we have N-3 1s in a row\n",
    "          if a + i >= x_len:\n",
    "            break\n",
    "          if one_hot_x_down[a + i] == 0:\n",
    "            is_possible_index = False\n",
    "            break\n",
    "        if is_possible_index:\n",
    "          hot_indices.append(a)\n",
    "      if len(hot_indices) == 3:\n",
    "        break\n",
    "            \n",
    "      \n",
    "    print(hot_indices)\n",
    "    \n",
    "    print(\"\\n\\n\")\n",
    "    \n",
    "    \n",
    "    \n",
    "    return [hot_indices[0], hot_indices[1], hot_indices[2]]"
   ]
  },
  {
   "cell_type": "markdown",
   "metadata": {},
   "source": [
    "---\n",
    "## Running and Testing\n",
    "Use the cell below to run and test your code, and to get an estimate of your grade."
   ]
  },
  {
   "cell_type": "code",
   "execution_count": 48,
   "metadata": {},
   "outputs": [
    {
     "name": "stdout",
     "output_type": "stream",
     "text": [
      "[[0.        0.0012818 0.0039063]\n",
      " [0.0012818 0.        0.0013427]\n",
      " [0.0020906 0.000473  0.0018157]\n",
      " [0.0031588 0.0006866 0.0020293]\n",
      " [0.0057833 0.0020293 0.0006866]]\n",
      "[0 1 1 0 1]\n",
      "[1, 2, 4]\n",
      "\n",
      "\n",
      "\n",
      "[[0.00000000e+00 1.23750000e-02 2.66728000e-02 ... 3.59310278e+00\n",
      "  3.59468978e+00 3.59710078e+00]\n",
      " [1.23750000e-02 0.00000000e+00 1.92280000e-03 ... 2.86411878e+00\n",
      "  2.87808078e+00 2.88804478e+00]\n",
      " [2.66728000e-02 1.92280000e-03 0.00000000e+00 ... 2.76605598e+00\n",
      "  2.78194078e+00 2.79382758e+00]\n",
      " ...\n",
      " [3.64757728e+00 2.89384328e+00 2.79193488e+00 ... 1.68917000e-02\n",
      "  2.02637000e-02 2.76337000e-02]\n",
      " [3.64916428e+00 2.90780528e+00 2.80781968e+00 ... 2.02637000e-02\n",
      "  1.68917000e-02 2.08897000e-02]\n",
      " [3.65157528e+00 2.91776928e+00 2.81970648e+00 ... 2.76337000e-02\n",
      "  2.08897000e-02 1.68917000e-02]]\n",
      "[0 0 0 1 0 1 1 0 0 0 0 0 0 0 0 0 0 0 0 0 0 0 0 0 0 0 0 0 0 0 0 0 0 0 0 0 0\n",
      " 0 0 0 0 0 0 0 0 0 0 0 0 0 0 0 0 0 0 0 0 0 0 0 0 0 0 0 0 0 0 0 0 0 0 0 0 0\n",
      " 0 0 0 0 0 0 0 0 0 0 0 0 0 0 0 0 0 0 0 0 0 0 0 0 0 0 0 0 0 0 0 0 0 0 0 0 0\n",
      " 0 0 0 0 0 0 0 0]\n",
      "[3, 5, 6]\n",
      "\n",
      "\n",
      "\n",
      "[[0.00000000e+00 4.59300000e-03 1.25420000e-02 ... 4.16760272e+00\n",
      "  4.17874172e+00 4.18818772e+00]\n",
      " [4.59300000e-03 0.00000000e+00 3.35600000e-03 ... 3.56642672e+00\n",
      "  3.58215872e+00 3.59619772e+00]\n",
      " [1.25420000e-02 3.35600000e-03 0.00000000e+00 ... 3.18292872e+00\n",
      "  3.20201672e+00 3.21941172e+00]\n",
      " ...\n",
      " [4.26457142e+00 3.64502342e+00 3.24810142e+00 ... 2.19575000e-02\n",
      "  2.27355000e-02 2.36505000e-02]\n",
      " [4.27571042e+00 3.66075542e+00 3.26718942e+00 ... 2.27355000e-02\n",
      "  2.19575000e-02 2.36505000e-02]\n",
      " [4.28515642e+00 3.67479442e+00 3.28458442e+00 ... 2.36505000e-02\n",
      "  2.36505000e-02 2.19575000e-02]]\n",
      "[0 0 0 0 0 0 0 0 0 0 0 0 0 0 0 0 0 0 0 0 0 0 0 0 0 0 0 0 0 0 0 0 0 0 0 0 0\n",
      " 0 0 0 0 0 0 0 0 0 0 0 0 0 0 0 0 0 1 1 0 1 0 1 1 1 0 0 0 0 0 0 0 0 0 0 0 0\n",
      " 0 0 0 0 0 0 0 0 0 0 0 0 0 0 0 0 0 0 0 0 0 0 0 0 0 0 0 0 0 0 0 0 0 0 0 0 0\n",
      " 0 0 0 0 0 0 0 0 0 0 0 0 0 0 0 0 0 0 0 0 0 0 0 0 0 0 0 0 0 0 0 0 0 0 0 0 0\n",
      " 0]\n",
      "[54, 55, 57]\n",
      "\n",
      "\n",
      "\n",
      "[[0.         0.0043335  0.0164795  ... 3.85294824 3.85787664 3.86622304]\n",
      " [0.0043335  0.         0.0078125  ... 3.68824494 3.69750684 3.71018674]\n",
      " [0.0164795  0.0078125  0.         ... 3.61326346 3.63033786 3.65083026]\n",
      " ...\n",
      " [3.98194624 3.79557544 3.68153146 ... 0.01059    0.0141451  0.0211182 ]\n",
      " [3.98687464 3.80483734 3.69860586 ... 0.0141451  0.01059    0.014008  ]\n",
      " [3.99522104 3.81751724 3.71909826 ... 0.0211182  0.014008   0.01059   ]]\n",
      "[0 0 0 0 0 0 0 0 0 0 0 0 0 0 0 0 0 0 0 0 0 0 0 0 0 0 0 0 0 0 1 1 1 0 1 1 0\n",
      " 0 0 0 0 0 0 0 0 0 0 0 0 0 0 0 0 0 0 0 0 0 0 0 0 0 0 0 0 0 0 0 0 0 0 0 0 0\n",
      " 0 0 0 0 0 0 0 0 0 0 0 0 0 0 0 0 0 0 0 0 0 0 0 0 0 0 0 0 0 0 0 0 0 0 0 0 0\n",
      " 0 0 0 0 0 0 0 0 0 0 0 0 0 0 0 0 0 0 0 0 0 0 0 0 0 0 0 0 0 0 0 0 0 0 0 0 0\n",
      " 0 0 0 0 0 0 0 0 0 0 0 0 0 0 0 0 0 0 0 0 0 0 0 0 0 0 0 0 0 0 0 0 0 0 0 0 0\n",
      " 0 0 0 0 0 0 0 0 0 0 0 0 0 1]\n",
      "[30, 31, 32]\n",
      "\n",
      "\n",
      "\n"
     ]
    },
    {
     "data": {
      "text/html": [
       "<table><tr><td><h4>Test</h4><td><td><h4>Correct Index</h4><td><td><h4>Calculated Indices</h4><td><td><h4>Grade</h4><td></tr><tr><td><h4>0</h4><td><td><h4>3</h4><td><td><h4>[1, 2, 4]</h4><td><td><h4>10 / 10</h4><td></tr><tr><td><h4>1</h4><td><td><h4>5</h4><td><td><h4>[3, 5, 6]</h4><td><td><h4>10 / 10</h4><td></tr><tr><td><h4>2</h4><td><td><h4>56</h4><td><td><h4>[54, 55, 57]</h4><td><td><h4>10 / 10</h4><td></tr><tr><td><h4>3</h4><td><td><h4>32</h4><td><td><h4>[30, 31, 32]</h4><td><td><h4>10 / 10</h4><td></tr><tr><td><h4><i>👻 Hidden test 0 👻</i></h4><td><td><h4><i>???</i></h4><td><td><h4><i>???</i></h4><td><td><h4><i>???</i> / 10</h4><td></tr><tr><td><h4><i>👻 Hidden test 1 👻</i></h4><td><td><h4><i>???</i></h4><td><td><h4><i>???</i></h4><td><td><h4><i>???</i> / 10</h4><td></tr><tr><td><h4><i>👻 Hidden test 2 👻</i></h4><td><td><h4><i>???</i></h4><td><td><h4><i>???</i></h4><td><td><h4><i>???</i> / 10</h4><td></tr><tr><td><h4><i>👻 Hidden test 3 👻</i></h4><td><td><h4><i>???</i></h4><td><td><h4><i>???</i></h4><td><td><h4><i>???</i> / 10</h4><td></tr></table>"
      ],
      "text/plain": [
       "<IPython.core.display.HTML object>"
      ]
     },
     "metadata": {},
     "output_type": "display_data"
    }
   ],
   "source": [
    "def calculate_score(groundtruth, candidates, threshold):\n",
    "    for candidate in candidates:\n",
    "        if(groundtruth - threshold < candidate < groundtruth + threshold):\n",
    "            return 1\n",
    "    return 0\n",
    "import matplotlib.pyplot as plt    \n",
    "if __name__ == '__main__':\n",
    "    output = [['Test', 'Correct Index', 'Calculated Indices', 'Grade']]\n",
    "    windows = [3, 5, 56, 32] # 20\n",
    "    N = [2, 2, 4, 5]\n",
    "    for i in range(4):\n",
    "        X = np.loadtxt(open('{}_X.csv'.format(i), \"rb\"), delimiter=\",\", skiprows=1)\n",
    "        Y = np.loadtxt(open('{}_Y.csv'.format(i), \"rb\"), delimiter=\",\", skiprows=1)\n",
    "        student_answer = find_missing_window(X, Y, N[i])\n",
    "        score = calculate_score(windows[i], student_answer, max(4, N[i] * 0.5))\n",
    "        output.append([i, windows[i], student_answer, \"{:0.0f} / 10\".format(score * 10)])\n",
    "    output.append(['<i>👻 Hidden test 0 👻</i>','<i>???</i>', '<i>???</i>', '<i>???</i> / 10'])\n",
    "    output.append(['<i>👻 Hidden test 1 👻</i>','<i>???</i>', '<i>???</i>', '<i>???</i> / 10'])\n",
    "    output.append(['<i>👻 Hidden test 2 👻</i>','<i>???</i>', '<i>???</i>', '<i>???</i> / 10'])\n",
    "    output.append(['<i>👻 Hidden test 3 👻</i>','<i>???</i>', '<i>???</i>', '<i>???</i> / 10'])\n",
    "    display_table(output)"
   ]
  },
  {
   "cell_type": "markdown",
   "metadata": {},
   "source": [
    "---\n",
    "## Rubric\n",
    "You will be graded on the four datasets provided to you (10 points each) and four additional datasets. We will use the same code from the **Running and Testing** section above to grade all 8 traces of data. As long as 1 of 3 candidate outputs are within the grading threshold($max[4, window\\_size \\times 0.5]$), you will receive 10 points. No partial credit is rewarded since we are essentially allowing 3 guesses."
   ]
  },
  {
   "cell_type": "markdown",
   "metadata": {},
   "source": [
    "----\n",
    "## Submission Guidelines\n",
    "This Jupyter notebook (`MP6.ipynb`) is the only file you need to submit on Gradescope. Since this is the last MP, you can expect the grade you see on Gradescope to be the final grade of this MP. Regrade requests are not accepted.\n",
    "\n",
    "**Make sure any code you added to this notebook, except for import statements, is either in a function or guarded by `__main__`(which won't be run by the autograder). Gradescope will give you immediate feedback using the provided test cases. It is your responsibility to check the output before the deadline to ensure your submission runs with the autograder.**"
   ]
  }
 ],
 "metadata": {
  "kernelspec": {
   "display_name": "Python 3",
   "language": "python",
   "name": "python3"
  },
  "language_info": {
   "codemirror_mode": {
    "name": "ipython",
    "version": 3
   },
   "file_extension": ".py",
   "mimetype": "text/x-python",
   "name": "python",
   "nbconvert_exporter": "python",
   "pygments_lexer": "ipython3",
   "version": "3.9.18"
  }
 },
 "nbformat": 4,
 "nbformat_minor": 2
}
